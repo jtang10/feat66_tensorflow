{
 "cells": [
  {
   "cell_type": "code",
   "execution_count": 1,
   "metadata": {
    "collapsed": true
   },
   "outputs": [],
   "source": [
    "from __future__ import print_function\n",
    "import matplotlib\n",
    "import numpy as np\n",
    "import matplotlib.pyplot as plt\n",
    "import tensorflow as tf\n",
    "from tensorflow.python.framework.ops import reset_default_graph\n",
    "from tensorflow.contrib.layers import fully_connected, batch_norm\n",
    "\n",
    "from utils import *"
   ]
  },
  {
   "cell_type": "markdown",
   "metadata": {},
   "source": [
    "Run the following code to apply the slurm restriction"
   ]
  },
  {
   "cell_type": "code",
   "execution_count": 2,
   "metadata": {
    "collapsed": true
   },
   "outputs": [],
   "source": [
    "import os\n",
    "NUM_THREADS = int(os.environ['OMP_NUM_THREADS'])\n",
    "sess = tf.Session(config=tf.ConfigProto(\n",
    "    intra_op_parallelism_threads=NUM_THREADS,\n",
    "    inter_op_parallelism_threads=NUM_THREADS))"
   ]
  },
  {
   "cell_type": "markdown",
   "metadata": {},
   "source": [
    "Convenient functions to show the running time"
   ]
  },
  {
   "cell_type": "code",
   "execution_count": 3,
   "metadata": {
    "collapsed": true
   },
   "outputs": [],
   "source": [
    "import time\n",
    "import math\n",
    "\n",
    "def asMinutes(s):\n",
    "    m = math.floor(s / 60)\n",
    "    s -= m * 60\n",
    "    return '%dm %ds' % (m, s)\n",
    "\n",
    "def timeSince(since, percent):\n",
    "    now = time.time()\n",
    "    s = now - since\n",
    "    es = s / (percent)\n",
    "    rs = es - s\n",
    "    return '%s (- %s)' % (asMinutes(s), asMinutes(rs))"
   ]
  },
  {
   "cell_type": "markdown",
   "metadata": {},
   "source": [
    "All the hyperparameters"
   ]
  },
  {
   "cell_type": "code",
   "execution_count": 4,
   "metadata": {
    "collapsed": true
   },
   "outputs": [],
   "source": [
    "batch_size = 64\n",
    "number_inputs = 66\n",
    "number_outputs = 8\n",
    "seq_len = 300 # max 700\n",
    "learning_rate = 0.001\n",
    "val_interval = batch_size * 5\n",
    "print_interval = batch_size * 10\n",
    "samples_to_process = 1e4\n",
    "num_layers = 3"
   ]
  },
  {
   "cell_type": "markdown",
   "metadata": {},
   "source": [
    "Load all the data"
   ]
  },
  {
   "cell_type": "code",
   "execution_count": 5,
   "metadata": {
    "scrolled": true
   },
   "outputs": [
    {
     "name": "stdout",
     "output_type": "stream",
     "text": [
      "Time spent loading data: 0m 34s\n",
      "X_train: (64, 300, 66)\n",
      "X_valid: (1267, 683, 66)\n",
      "X_test: (1267, 687, 66)\n"
     ]
    }
   ],
   "source": [
    "# Get all the data\n",
    "trainList_addr = './data/trainList'\n",
    "validList_addr = './data/validList'\n",
    "testList_addr = './data/testList'\n",
    "\n",
    "start = time.time()\n",
    "train_list, train_len_list = read_list(trainList_addr)\n",
    "valid_list, valid_len_list = read_list(validList_addr)\n",
    "test_list, test_len_list = read_list(testList_addr)\n",
    "\n",
    "train_generator = generate_batch(train_list, train_len_list,\n",
    "                                 max_seq_length=seq_len,\n",
    "                                 batch_size=batch_size)\n",
    "\n",
    "X_train, t_train, len_train, mask_train = train_generator.next()\n",
    "# X_train, t_train, len_train = read_data(train_list, train_len_list,\n",
    "#                                         max_seq_length=seq_len)\n",
    "X_valid, t_valid, len_valid, mask_valid = read_data(valid_list, valid_len_list,\n",
    "                                        max_seq_length=max(valid_len_list))\n",
    "X_test, t_test, len_test, mask_test = read_data(test_list, test_len_list,\n",
    "                                     max_seq_length=max(test_len_list))\n",
    "\n",
    "timeSpent = time.time() - start\n",
    "print(\"Time spent loading data: {}\".format(asMinutes(timeSpent)))\n",
    "print(\"X_train:\", X_train.shape)\n",
    "print(\"X_valid:\", X_valid.shape)\n",
    "print(\"X_test:\", X_test.shape)"
   ]
  },
  {
   "cell_type": "code",
   "execution_count": 6,
   "metadata": {},
   "outputs": [
    {
     "name": "stdout",
     "output_type": "stream",
     "text": [
      "(1267, 687)\n",
      "(1267, 687)\n"
     ]
    }
   ],
   "source": [
    "print(t_test.shape)\n",
    "print(mask_test.shape)"
   ]
  },
  {
   "cell_type": "code",
   "execution_count": 7,
   "metadata": {
    "collapsed": true
   },
   "outputs": [],
   "source": [
    "reset_default_graph()\n",
    "\n",
    "X_input = tf.placeholder(tf.float32, shape=[None, None, number_inputs], name='X_input')\n",
    "X_length = tf.placeholder(tf.int32, shape=[None,], name='X_length')\n",
    "t_input = tf.placeholder(tf.int32, shape=[None, None], name='t_input')\n",
    "X_mask = tf.placeholder(tf.int32, shape=[None, None], name='X_mask')\n",
    "\n",
    "num_units_encoder = 100\n",
    "num_units_l1 = 100\n",
    "\n",
    "cell_fw = tf.nn.rnn_cell.GRUCell(num_units_encoder)\n",
    "cell_bw = tf.nn.rnn_cell.GRUCell(num_units_encoder)\n",
    "#enc_cell = tf.nn.rnn_cell.OutputProjectionWrapper(enc_cell, number_outputs)\n",
    "enc_outputs, _ = tf.nn.bidirectional_dynamic_rnn(cell_fw=cell_fw, cell_bw=cell_bw, inputs=X_input,\n",
    "                                                 sequence_length=X_length, dtype=tf.float32)\n",
    "\n",
    "enc_outputs = tf.concat(enc_outputs, 2)\n",
    "outputs = tf.reshape(enc_outputs, [-1, num_units_encoder*2])\n",
    "l1 = fully_connected(outputs, num_units_l1, normalizer_fn=batch_norm)\n",
    "l_out = fully_connected(l1, number_outputs, activation_fn=None)\n",
    "\n",
    "batch_size_shp = tf.shape(enc_outputs)[0]\n",
    "seq_len_shp = tf.shape(enc_outputs)[1]\n",
    "l_out_reshape = tf.reshape(l_out, [batch_size_shp, seq_len_shp, number_outputs])\n",
    "\n",
    "y = l_out_reshape"
   ]
  },
  {
   "cell_type": "markdown",
   "metadata": {},
   "source": [
    "The following code use softmax_cross_entropy_with_logits to resolve the NaN problem."
   ]
  },
  {
   "cell_type": "markdown",
   "metadata": {},
   "source": [
    "**This piece is working!!!**\n",
    "\n",
    "The following code uses sparse_softmax_cross_entropy_with_logits but with number_outputs = 9. "
   ]
  },
  {
   "cell_type": "code",
   "execution_count": 8,
   "metadata": {
    "collapsed": true
   },
   "outputs": [],
   "source": [
    "# Derive the mask to filter out zero-padding when calculating loss and accuracy\n",
    "X_mask = tf.to_float(X_mask)\n",
    "mask_sum = tf.reduce_sum(X_mask)\n",
    "# Calculate loss\n",
    "cross_entropy = tf.nn.sparse_softmax_cross_entropy_with_logits(labels=t_input, logits=y)\n",
    "# print(cross_entropy.dtype)\n",
    "cross_entropy *= X_mask\n",
    "# tf.reduce_mean cannot be used because it will count zero-padding for weights.\n",
    "loss = tf.reduce_sum(cross_entropy) / mask_sum\n",
    "# Calculate accuracy. Need to exclude the padded zeros.\n",
    "\n",
    "predictions = tf.to_int32(tf.argmax(y, 2))\n",
    "correct = tf.to_float(tf.equal(predictions, t_input))\n",
    "correct_masked = correct * X_mask\n",
    "accuracy = tf.reduce_sum(correct_masked) / mask_sum\n",
    "\n",
    "# use global step to keep track of our iterations\n",
    "global_step = tf.Variable(0, name='global_step', trainable=False)\n",
    "# pick optimizer, try momentum or adadelta\n",
    "optimizer = tf.train.AdamOptimizer(learning_rate)\n",
    "# extract gradients for each variable\n",
    "grads_and_vars = optimizer.compute_gradients(loss)\n",
    "# apply gradients and make trainable function\n",
    "train_op = optimizer.apply_gradients(grads_and_vars, global_step=global_step)"
   ]
  },
  {
   "cell_type": "code",
   "execution_count": 9,
   "metadata": {},
   "outputs": [
    {
     "name": "stdout",
     "output_type": "stream",
     "text": [
      "<tf.Variable 'bidirectional_rnn/fw/gru_cell/gates/kernel:0' shape=(166, 200) dtype=float32_ref>\n",
      "<tf.Variable 'bidirectional_rnn/fw/gru_cell/gates/bias:0' shape=(200,) dtype=float32_ref>\n",
      "<tf.Variable 'bidirectional_rnn/fw/gru_cell/candidate/kernel:0' shape=(166, 100) dtype=float32_ref>\n",
      "<tf.Variable 'bidirectional_rnn/fw/gru_cell/candidate/bias:0' shape=(100,) dtype=float32_ref>\n",
      "<tf.Variable 'bidirectional_rnn/bw/gru_cell/gates/kernel:0' shape=(166, 200) dtype=float32_ref>\n",
      "<tf.Variable 'bidirectional_rnn/bw/gru_cell/gates/bias:0' shape=(200,) dtype=float32_ref>\n",
      "<tf.Variable 'bidirectional_rnn/bw/gru_cell/candidate/kernel:0' shape=(166, 100) dtype=float32_ref>\n",
      "<tf.Variable 'bidirectional_rnn/bw/gru_cell/candidate/bias:0' shape=(100,) dtype=float32_ref>\n",
      "<tf.Variable 'fully_connected/weights:0' shape=(200, 100) dtype=float32_ref>\n",
      "<tf.Variable 'fully_connected/BatchNorm/beta:0' shape=(100,) dtype=float32_ref>\n",
      "<tf.Variable 'fully_connected_1/weights:0' shape=(100, 8) dtype=float32_ref>\n",
      "<tf.Variable 'fully_connected_1/biases:0' shape=(8,) dtype=float32_ref>\n"
     ]
    }
   ],
   "source": [
    "for i in tf.trainable_variables():\n",
    "    print(i)"
   ]
  },
  {
   "cell_type": "code",
   "execution_count": 10,
   "metadata": {},
   "outputs": [
    {
     "name": "stdout",
     "output_type": "stream",
     "text": [
      "==========validating the model==========\n",
      "y: (1267, 683, 8)\n",
      "t_input (1267, 683)\n",
      "predictions (1267, 683)\n",
      "Cross Entropy (1267, 683)\n",
      "enc_outputs (1267, 683, 200)\n",
      "outputs (865361, 200)\n",
      "l1 (865361, 100)\n",
      "[ 2.47261143  1.48216796  1.06977654  2.35565782  5.76333094  1.76045787\n",
      "  1.77337122  1.86402535  1.54179764  1.90952754  1.74767065  4.40693998\n",
      "  0.86702359  0.74647647  0.87528944  0.68557179  3.45605254  0.83203238\n",
      "  2.76879096  2.89171028  3.07740879  5.55807543  0.80262613  1.04916286\n",
      "  2.78229284  3.61127257  2.74790549  3.44143438  2.68848419  0.35979575\n",
      "  0.49571335  4.42177963  4.99732256  4.92472649  1.0457269   1.30828238\n",
      "  2.56679773  1.56456006  1.21414387  1.23222113  2.30451775  1.73938501\n",
      "  1.05501056  4.53986025  1.29793906  1.28188133  1.38825941  3.55397987\n",
      "  3.52390027  3.68080139  3.6607728   3.23761415  3.35120058  1.03067994\n",
      "  1.37938499  1.72503757  1.60187995  1.41777658  1.41768312  0.80911297\n",
      "  4.13940144  3.05489969  3.12752771  2.23602986  2.31211066  1.88577735\n",
      "  1.083202    1.68161762  3.81419563  1.34463573  1.24841034  1.65498352\n",
      "  3.70943666  1.54701757  3.44536567  3.46133065  3.55967569  1.27680361\n",
      "  3.80271482  3.72683811  1.26125765  1.13985264  2.66947556  2.85729146\n",
      "  2.78028774  3.30351758  3.25129056  1.38335466  2.58446884  3.34128332\n",
      "  2.79579067  4.204       4.42522812  4.27085733  2.58170033  0.40312541\n",
      "  2.04620934  1.95459032  3.37392044  2.91849875  1.03047538  1.26329899\n",
      "  2.08730626  2.81771183  0.60859984  0.84422392  0.65083218  4.36628246\n",
      "  3.68433046  3.77228594  1.66983593  1.9414432   1.76185977  2.25406265\n",
      "  2.27336073  2.96736717  2.70205402  4.55429506  5.38123226  5.18291426\n",
      "  1.66219079  0.96821654  1.15009987  1.34136653  1.08352673  1.17573702\n",
      "  1.90492713  0.95511961  1.65814877  3.53299856  2.80479431  2.73850393\n",
      "  2.66251421  2.29944324  3.59170723  3.1282897   3.0230689   1.79178464\n",
      "  2.68036032  2.74559832  2.72110128  1.6352514   1.37370718  1.85039997\n",
      "  2.15602446  1.00529695  0.          0.          0.          0.          0.\n",
      "  0.          0.          0.          0.          0.          0.          0.\n",
      "  0.          0.          0.          0.          0.          0.          0.\n",
      "  0.          0.          0.          0.          0.          0.          0.\n",
      "  0.          0.          0.          0.          0.          0.          0.\n",
      "  0.          0.          0.          0.          0.          0.          0.\n",
      "  0.          0.          0.          0.          0.          0.          0.\n",
      "  0.          0.          0.          0.          0.          0.          0.        ]\n",
      "==========Model validation finished==========\n"
     ]
    }
   ],
   "source": [
    "# restricting memory usage, TensorFlow is greedy and will use all memory otherwise\n",
    "gpu_opts = tf.GPUOptions(per_process_gpu_memory_fraction=0.8)\n",
    "# initialize the Session\n",
    "sess = tf.Session(config=tf.ConfigProto(gpu_options=gpu_opts))\n",
    "sess.run(tf.global_variables_initializer())\n",
    "\n",
    "print(\"=\" * 10 + \"validating the model\"+ \"=\" * 10)\n",
    "# test validation part\n",
    "# sess.run(tf.global_variables_initializer())\n",
    "feed_dict = {X_input: X_valid, X_length: len_valid,\n",
    "             t_input: t_valid, X_mask: mask_valid}\n",
    "fetches = [y, t_input, predictions, cross_entropy, enc_outputs, outputs, l1]\n",
    "res = tuple(sess.run(fetches=fetches, feed_dict=feed_dict))\n",
    "print(\"y:\", res[0].shape)\n",
    "print(\"t_input\", res[1].shape)\n",
    "print(\"predictions\", res[2].shape)\n",
    "print(\"Cross Entropy\", res[3].shape)\n",
    "print(\"enc_outputs\", res[4].shape)\n",
    "print(\"outputs\", res[5].shape)\n",
    "print(\"l1\", res[6].shape)\n",
    "print(res[3][0, 0:200])\n",
    "# print(res[5][0, 0:200])\n",
    "# print(res[6][0, 0:200])\n",
    "print(\"=\" * 10 + \"Model validation finished\"+ \"=\" * 10)"
   ]
  },
  {
   "cell_type": "code",
   "execution_count": 11,
   "metadata": {},
   "outputs": [
    {
     "name": "stdout",
     "output_type": "stream",
     "text": [
      "samples_processed: 640, batch_cost: 1.03, validation_accs: 0.6356\n",
      "samples_processed: 1280, batch_cost: 0.89, validation_accs: 0.6678\n",
      "samples_processed: 1920, batch_cost: 0.84, validation_accs: 0.6799\n",
      "samples_processed: 2560, batch_cost: 0.80, validation_accs: 0.6856\n",
      "samples_processed: 3200, batch_cost: 0.77, validation_accs: 0.6889\n",
      "samples_processed: 3840, batch_cost: 0.74, validation_accs: 0.6903\n",
      "samples_processed: 4480, batch_cost: 0.72, validation_accs: 0.6904\n",
      "samples_processed: 5120, batch_cost: 0.69, validation_accs: 0.6889\n",
      "samples_processed: 5760, batch_cost: 0.66, validation_accs: 0.6874\n",
      "samples_processed: 6400, batch_cost: 0.64, validation_accs: 0.6859\n",
      "samples_processed: 7040, batch_cost: 0.61, validation_accs: 0.6836\n",
      "samples_processed: 7680, batch_cost: 0.58, validation_accs: 0.6820\n",
      "samples_processed: 8320, batch_cost: 0.55, validation_accs: 0.6800\n",
      "samples_processed: 8960, batch_cost: 0.52, validation_accs: 0.6771\n",
      "samples_processed: 9600, batch_cost: 0.49, validation_accs: 0.6758\n"
     ]
    }
   ],
   "source": [
    "samples_processed = 0\n",
    "samples_val = []\n",
    "costs, accs_val = [], []\n",
    "saver1 = tf.train.Saver()\n",
    "\n",
    "sess.run(tf.global_variables_initializer())\n",
    "writer = tf.summary.FileWriter('./graphs', sess.graph)\n",
    "while samples_processed < samples_to_process:\n",
    "    # make fetches\n",
    "    fetches_tr = [train_op, loss, accuracy]\n",
    "    # set up feed_dict\n",
    "    feed_dict_tr = {X_input: X_train, X_length: len_train,\n",
    "                    t_input: t_train, X_mask: mask_train}\n",
    "    # run the model\n",
    "    res = tuple(sess.run(fetches=fetches_tr, feed_dict=feed_dict_tr))\n",
    "    _, batch_cost, batch_acc = res\n",
    "    samples_processed += batch_size\n",
    "    \n",
    "    #validation data\n",
    "    if samples_processed % val_interval == 0:\n",
    "        fetches_val = [accuracy, y]\n",
    "        feed_dict_val = {X_input: X_valid, X_length: len_valid,\n",
    "                         t_input: t_valid, X_mask: mask_valid}\n",
    "        res = tuple(sess.run(fetches=fetches_val, feed_dict=feed_dict_val))\n",
    "        \n",
    "        costs += [batch_cost]\n",
    "        acc_val, output_val = res\n",
    "        samples_val += [samples_processed]\n",
    "        accs_val += [acc_val]\n",
    "\n",
    "        if samples_processed % print_interval == 0:\n",
    "            print(\"samples_processed: %d, batch_cost: %.2f, validation_accs: %.4f\" % \\\n",
    "                  (samples_processed, batch_cost, acc_val))\n",
    "\n",
    "saver1.save(sess, './bi_gru_300_dp')\n",
    "writer.close()"
   ]
  },
  {
   "cell_type": "code",
   "execution_count": 12,
   "metadata": {},
   "outputs": [
    {
     "name": "stdout",
     "output_type": "stream",
     "text": [
      "Test Accuracy: 0.6797\n"
     ]
    }
   ],
   "source": [
    "fetches_test = [accuracy, y, predictions]\n",
    "feed_dict_test = {X_input: X_test, X_length: len_test,\n",
    "                  t_input: t_test, X_mask: mask_test}\n",
    "res = tuple(sess.run(fetches=fetches_test, feed_dict=feed_dict_test))\n",
    "\n",
    "acc_test, output_test, predictions = res\n",
    "print(\"Test Accuracy: {:.4f}\".format(acc_test))\n",
    "# print(predictions[0, :])\n",
    "# print(t_test[0, :])"
   ]
  },
  {
   "cell_type": "code",
   "execution_count": 13,
   "metadata": {
    "collapsed": true
   },
   "outputs": [],
   "source": [
    "# with open(\"feat66_len300_dynamic_padding.txt\",\"w\") as f:\n",
    "#     for (sample_val, acc_val, cost) in zip(samples_val, accs_val, costs):\n",
    "#         f.write(\"{0},{1},{2}\\n\".format(sample_val, acc_val, cost))"
   ]
  },
  {
   "cell_type": "code",
   "execution_count": 14,
   "metadata": {},
   "outputs": [
    {
     "data": {
      "image/png": "[encoded data removed]",
      "text/plain": [
       "<matplotlib.figure.Figure at 0x7f021ad17f50>"
      ]
     },
     "metadata": {},
     "output_type": "display_data"
    }
   ],
   "source": [
    "fig, ax1 = plt.subplots()\n",
    "plt.plot(samples_val, accs_val, 'b-')\n",
    "ax1.set_ylabel('Validation Accuracy', fontsize=15)\n",
    "ax1.set_xlabel('Processed samples', fontsize=15)\n",
    "plt.title('Accuracy & Cost with seq_len=300, dynamic padding', fontsize=20)\n",
    "ax2 = ax1.twinx()\n",
    "ax2.plot(samples_val, costs, 'r-')\n",
    "ax2.set_ylabel('Training Cost', fontsize=15)\n",
    "plt.grid('on')\n",
    "plt.savefig(\"out.png\")\n",
    "plt.show()"
   ]
  },
  {
   "cell_type": "markdown",
   "metadata": {},
   "source": [
    "The following code is used to plot the stored information for old experiment and is not being used currently."
   ]
  },
  {
   "cell_type": "code",
   "execution_count": 15,
   "metadata": {
    "collapsed": true
   },
   "outputs": [],
   "source": [
    "# samples_30, accs_30, costs_30 = [], [], []\n",
    "# with open(\"feat66_len30.txt\",\"r\") as f:\n",
    "#     for line in f:\n",
    "#         line = line.split(',')\n",
    "#         samples_30.append(line[0])\n",
    "#         accs_30.append(line[1])\n",
    "#         costs_30.append(line[2])"
   ]
  },
  {
   "cell_type": "code",
   "execution_count": 16,
   "metadata": {
    "collapsed": true
   },
   "outputs": [],
   "source": [
    "# fig, ax1 = plt.subplots()\n",
    "# plt.plot(samples_30, accs_30, 'b-')\n",
    "# ax1.set_ylabel('Validation Accuracy', fontsize=15)\n",
    "# ax1.set_xlabel('Processed samples', fontsize=15)\n",
    "# plt.title('Accuracy & Cost with seq_len=30', fontsize=20)\n",
    "# ax2 = ax1.twinx()\n",
    "# ax2.plot(samples_30, costs_30, 'r-')\n",
    "# ax2.set_ylabel('Training Cost', fontsize=15)\n",
    "# plt.grid('on')\n",
    "# plt.savefig(\"out.png\")\n",
    "# plt.show()"
   ]
  }
 ],
 "metadata": {
  "kernelspec": {
   "display_name": "Python [conda env:tf-1.3]",
   "language": "python",
   "name": "conda-env-tf-1.3-py"
  },
  "language_info": {
   "codemirror_mode": {
    "name": "ipython",
    "version": 2
   },
   "file_extension": ".py",
   "mimetype": "text/x-python",
   "name": "python",
   "nbconvert_exporter": "python",
   "pygments_lexer": "ipython2",
   "version": "2.7.13"
  }
 },
 "nbformat": 4,
 "nbformat_minor": 2
}
