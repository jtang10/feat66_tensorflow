{
 "cells": [
  {
   "cell_type": "code",
   "execution_count": 27,
   "metadata": {
    "collapsed": true
   },
   "outputs": [],
   "source": [
    "from __future__ import print_function\n",
    "\n",
    "import os\n",
    "import time\n",
    "\n",
    "import numpy as np\n",
    "import tensorflow as tf\n",
    "from tensorflow.python.framework.ops import reset_default_graph\n",
    "from tensorflow.contrib.layers import fully_connected, batch_norm\n",
    "from tensorflow.contrib import rnn\n",
    "\n",
    "import matplotlib\n",
    "import matplotlib.pyplot as plt\n",
    "\n",
    "from utils import *"
   ]
  },
  {
   "cell_type": "markdown",
   "metadata": {},
   "source": [
    "All the hyperparameters"
   ]
  },
  {
   "cell_type": "code",
   "execution_count": 11,
   "metadata": {
    "collapsed": true
   },
   "outputs": [],
   "source": [
    "batch_size = 64\n",
    "number_inputs = 66\n",
    "number_outputs = 8\n",
    "max_seq_len = 400 # max 700"
   ]
  },
  {
   "cell_type": "markdown",
   "metadata": {},
   "source": [
    "Load all the data"
   ]
  },
  {
   "cell_type": "code",
   "execution_count": 28,
   "metadata": {
    "scrolled": true
   },
   "outputs": [
    {
     "name": "stdout",
     "output_type": "stream",
     "text": [
      "Spent 80.94s to load the data\n",
      "X_train: (64, 400, 66)\n",
      "X_valid: (1267, 683, 66)\n"
     ]
    }
   ],
   "source": [
    "# Get all the data\n",
    "relative_path = './data/SetOf7604Proteins/'\n",
    "trainList_addr = relative_path + 'trainList'\n",
    "validList_addr = relative_path + 'validList'\n",
    "testList_addr = relative_path + 'testList'\n",
    "\n",
    "start = time.time()\n",
    "train_list = read_list(trainList_addr)\n",
    "valid_list = read_list(validList_addr)\n",
    "test_list = read_list(testList_addr)\n",
    "\n",
    "train_generator = generate_batch(train_list, relative_path, max_seq_len, batch_size)\n",
    "\n",
    "X_train, t_train, len_train, mask_train = train_generator.next()\n",
    "X_valid, t_valid, len_valid, mask_valid = read_data(valid_list, relative_path, max_seq_length=683) # 683\n",
    "\n",
    "timeSpent = time.time() - start\n",
    "print(\"Spent {:.2f}s to load the data\".format(timeSpent))\n",
    "print(\"X_train:\", X_train.shape)\n",
    "print(\"X_valid:\", X_valid.shape)\n",
    "# print(\"X_test:\", X_test.shape)"
   ]
  },
  {
   "cell_type": "code",
   "execution_count": 14,
   "metadata": {},
   "outputs": [
    {
     "name": "stdout",
     "output_type": "stream",
     "text": [
      "(64, 400, 66)\n",
      "(64, 400)\n",
      "(64,)\n"
     ]
    }
   ],
   "source": [
    "print(X_train.shape)\n",
    "print(mask_train.shape)\n",
    "print(len_train.shape)"
   ]
  },
  {
   "cell_type": "code",
   "execution_count": 15,
   "metadata": {
    "collapsed": true
   },
   "outputs": [],
   "source": [
    "learning_rate = 0.001\n",
    "num_layers = 2\n",
    "state_size = 100\n",
    "num_units_l1 = 100\n",
    "dropout = False\n",
    "dropout_keep_rate = 0.5\n",
    "clip_gradients = True\n",
    "max_grad_norm = 5\n",
    "attention_size = 50\n",
    "\n",
    "reset_default_graph()\n",
    "\n",
    "X_input = tf.placeholder(tf.float32, shape=[None, None, number_inputs], name='X_input')\n",
    "X_length = tf.placeholder(tf.int32, shape=[None,], name='X_length')\n",
    "t_input = tf.placeholder(tf.int32, shape=[None, None], name='t_input')\n",
    "X_mask = tf.placeholder(tf.int32, shape=[None, None], name='X_mask')\n",
    "\n",
    "def GRU_with_dropout(dropout=True):\n",
    "    if dropout:\n",
    "        return rnn.DropoutWrapper(rnn.GRUCell(state_size),\n",
    "                                  output_keep_prob=dropout_keep_rate)\n",
    "    else:\n",
    "        return rnn.GRUCell(state_size)\n",
    "\n",
    "cells = rnn.MultiRNNCell([GRU_with_dropout(dropout=dropout) for _ in range(num_layers)],\n",
    "                         state_is_tuple=True)\n",
    "outputs, _ = tf.nn.bidirectional_dynamic_rnn(cell_fw=cells, cell_bw=cells, inputs=X_input,\n",
    "                                             sequence_length=X_length, \n",
    "                                             dtype=tf.float32)\n",
    "\n",
    "outputs = tf.concat(outputs, 2)\n",
    "outputs = tf.reshape(outputs, [-1, state_size*2])\n",
    "l1 = fully_connected(outputs, num_units_l1) # , normalizer_fn=batch_norm\n",
    "l_out = fully_connected(l1, number_outputs, activation_fn=None)\n",
    "\n",
    "batch_size_shp = tf.shape(enc_outputs)[0]\n",
    "seq_len_shp = tf.shape(enc_outputs)[1]\n",
    "y = tf.reshape(l_out, [batch_size_shp, seq_len_shp, number_outputs])\n"
   ]
  },
  {
   "cell_type": "markdown",
   "metadata": {},
   "source": [
    "**This piece is working!!!**\n",
    "\n",
    "The following code uses sparse_softmax_cross_entropy_with_logits but with number_outputs = 9. "
   ]
  },
  {
   "cell_type": "code",
   "execution_count": 16,
   "metadata": {
    "collapsed": true
   },
   "outputs": [],
   "source": [
    "X_mask = tf.to_float(X_mask)\n",
    "mask_sum = tf.reduce_sum(X_mask)\n",
    "cross_entropy = tf.nn.sparse_softmax_cross_entropy_with_logits(labels=t_input, logits=y)\n",
    "cross_entropy *= X_mask\n",
    "loss = tf.reduce_sum(cross_entropy) / mask_sum\n",
    "\n",
    "predictions = tf.to_int32(tf.argmax(y, 2))\n",
    "correct = tf.to_float(tf.equal(predictions, t_input))\n",
    "total_correct_preds = tf.reduce_sum(correct * X_mask)\n",
    "accuracy =  total_correct_preds / mask_sum"
   ]
  },
  {
   "cell_type": "code",
   "execution_count": 17,
   "metadata": {
    "collapsed": true
   },
   "outputs": [],
   "source": [
    "global_step = tf.Variable(0, name='global_step', trainable=False)\n",
    "optimizer = tf.train.AdamOptimizer(learning_rate)\n",
    "grads_and_vars = optimizer.compute_gradients(loss)\n",
    "grads = [element[0] for element in grads_and_vars]\n",
    "variables =  [element[1] for element in grads_and_vars]\n",
    "if clip_gradients:\n",
    "    grads = tf.clip_by_global_norm(grads, max_grad_norm)[0]   \n",
    "grad_norm = tf.global_norm(grads)\n",
    "grads_and_vars = [(grads[i], variables[i]) for i in range(len(grads))]\n",
    "train_op = optimizer.apply_gradients(grads_and_vars, global_step=global_step)"
   ]
  },
  {
   "cell_type": "code",
   "execution_count": 29,
   "metadata": {},
   "outputs": [
    {
     "name": "stdout",
     "output_type": "stream",
     "text": [
      "==========validating the model==========\n",
      "(1267, 683, 200)\n",
      "(865361, 200)\n",
      "(865361, 8)\n",
      "(1267, 683, 8)\n",
      "(1267, 683, 8)\n",
      "==========Model validation finished==========\n"
     ]
    }
   ],
   "source": [
    "print(\"=\" * 10 + \"validating the model\"+ \"=\" * 10)\n",
    "# test validation part\n",
    "# sess.run(tf.global_variables_initializer())\n",
    "with tf.Session() as sess:\n",
    "    sess.run(tf.global_variables_initializer())\n",
    "    feed_dict = {X_input: X_valid, X_length: len_valid,\n",
    "                 t_input: t_valid, X_mask: mask_valid}\n",
    "    fetches = [enc_outputs, outputs, l_out, l_out_reshape, y]\n",
    "    res = tuple(sess.run(fetches=fetches, feed_dict=feed_dict))\n",
    "    for element in res:\n",
    "        print(element.shape)\n",
    "print(\"=\" * 10 + \"Model validation finished\"+ \"=\" * 10)"
   ]
  },
  {
   "cell_type": "code",
   "execution_count": 19,
   "metadata": {
    "collapsed": true
   },
   "outputs": [],
   "source": [
    "def evaluate(X_data, y_data, len_data, mask_data):\n",
    "    num_examples = X_data.shape[0]\n",
    "    sess = tf.get_default_session()\n",
    "    total_correct = 0\n",
    "    loss_total = 0\n",
    "    for offset in range(0, num_examples, batch_size):\n",
    "        batch_x = X_data[offset:offset+batch_size, :, :]\n",
    "        batch_y = y_data[offset:offset+batch_size, :]\n",
    "        batch_len = len_data[offset:offset+batch_size]\n",
    "        batch_mask = mask_data[offset:offset+batch_size, :]\n",
    "        \n",
    "        feed = {X_input: batch_x, X_length: batch_len,\n",
    "                t_input: batch_y, X_mask: batch_mask}\n",
    "        \n",
    "        loss_val, correct_val = sess.run([loss, total_correct_preds], feed_dict=feed)\n",
    "        total_correct += correct_val\n",
    "        loss_total += loss_val\n",
    "    return total_correct / np.sum(mask_data), loss_total"
   ]
  },
  {
   "cell_type": "code",
   "execution_count": 20,
   "metadata": {
    "collapsed": true
   },
   "outputs": [],
   "source": [
    "def evaluate_individual(protein_name):\n",
    "    features, labels, seq_len, mask = read_protein(protein_name, relative_path, expand_dims=True)\n",
    "    feed = {X_input: features, X_length: seq_len,\n",
    "            t_input: labels, X_mask: mask}\n",
    "    sess = tf.get_default_session()\n",
    "    loss_val, correct_val = sess.run([loss, total_correct_preds], feed_dict=feed)\n",
    "    return correct_val, np.sum(mask), correct_val / np.sum(mask), loss_val\n",
    "\n",
    "def sequential_evaluate(dataList):\n",
    "    loss_total = 0\n",
    "    total_correct = 0\n",
    "    mask_total = 0\n",
    "    for i, protein_name in enumerate(dataList):\n",
    "        correct_val, mask_sum, _, loss_val = evaluate_individual(protein_name)\n",
    "        total_correct += correct_val\n",
    "        loss_total += loss_val\n",
    "        mask_total += mask_sum\n",
    "        if i % 100 == 0:\n",
    "            print(\"Number of processed proteins\", i)\n",
    "            print(\"Snapshot: Accuracy: {}; loss: {}\".format(total_correct / mask_total, loss_total))\n",
    "    return total_correct / mask_total, loss_total"
   ]
  },
  {
   "cell_type": "code",
   "execution_count": 21,
   "metadata": {},
   "outputs": [
    {
     "name": "stdout",
     "output_type": "stream",
     "text": [
      "samples_processed: 640, batch_cost: 1.465, validation_accs: 0.4919, validation_loss: 29.2094, patience_count: 0\n",
      "samples_processed: 1280, batch_cost: 1.219, validation_accs: 0.5632, validation_loss: 24.4120, patience_count: 0\n",
      "samples_processed: 1920, batch_cost: 1.034, validation_accs: 0.6283, validation_loss: 20.9371, patience_count: 0\n",
      "samples_processed: 2560, batch_cost: 0.944, validation_accs: 0.6578, validation_loss: 19.1663, patience_count: 0\n",
      "samples_processed: 3200, batch_cost: 0.912, validation_accs: 0.6715, validation_loss: 18.4557, patience_count: 0\n",
      "samples_processed: 3840, batch_cost: 0.885, validation_accs: 0.6849, validation_loss: 18.0326, patience_count: 0\n",
      "samples_processed: 4480, batch_cost: 0.867, validation_accs: 0.6881, validation_loss: 17.7466, patience_count: 0\n",
      "samples_processed: 5120, batch_cost: 0.853, validation_accs: 0.6915, validation_loss: 17.5715, patience_count: 0\n",
      "samples_processed: 5760, batch_cost: 0.841, validation_accs: 0.6940, validation_loss: 17.4148, patience_count: 0\n",
      "samples_processed: 6400, batch_cost: 0.830, validation_accs: 0.6957, validation_loss: 17.2767, patience_count: 0\n",
      "samples_processed: 7040, batch_cost: 0.819, validation_accs: 0.6969, validation_loss: 17.2589, patience_count: 1\n",
      "samples_processed: 7680, batch_cost: 0.811, validation_accs: 0.6980, validation_loss: 17.1563, patience_count: 1\n",
      "samples_processed: 8320, batch_cost: 0.801, validation_accs: 0.6984, validation_loss: 17.0764, patience_count: 1\n",
      "samples_processed: 8960, batch_cost: 0.792, validation_accs: 0.6985, validation_loss: 17.0655, patience_count: 1\n",
      "samples_processed: 9600, batch_cost: 0.784, validation_accs: 0.6981, validation_loss: 17.0596, patience_count: 1\n",
      "time spent: 659.940 seconds\n"
     ]
    }
   ],
   "source": [
    "val_interval = batch_size * 5\n",
    "print_interval = batch_size * 10\n",
    "samples_to_process = 1e4\n",
    "early_stopping = True\n",
    "patience = 4\n",
    "patience_count = 0\n",
    "\n",
    "samples_processed = 0\n",
    "loss_training = []\n",
    "samples_val = []\n",
    "costs, accs_val, grads_norm = [], [], []\n",
    "saver1 = tf.train.Saver()\n",
    "\n",
    "NUM_THREADS = int(os.environ['OMP_NUM_THREADS'])\n",
    "config = tf.ConfigProto(intra_op_parallelism_threads=NUM_THREADS, \n",
    "                        inter_op_parallelism_threads=NUM_THREADS)\n",
    "\n",
    "with tf.Session(config=) as sess:\n",
    "    sess.run(tf.global_variables_initializer())\n",
    "    writer = tf.summary.FileWriter('./graphs', sess.graph)\n",
    "    start = time.time()\n",
    "    while samples_processed < samples_to_process:\n",
    "        fetches_tr = [train_op, loss, accuracy, grad_norm]\n",
    "        feed_dict_tr = {X_input: X_train, X_length: len_train,\n",
    "                        t_input: t_train, X_mask: mask_train}\n",
    "        res = tuple(sess.run(fetches=fetches_tr, feed_dict=feed_dict_tr))\n",
    "        _, batch_cost, batch_acc, batch_grad_norm = res\n",
    "        samples_processed += batch_size\n",
    "        grads_norm += [batch_grad_norm]\n",
    "\n",
    "        #validation data\n",
    "        if samples_processed % val_interval == 0:\n",
    "            acc_val, acc_loss = evaluate(X_valid, t_valid, len_valid, mask_valid)\n",
    "            costs += [batch_cost]\n",
    "            samples_val += [samples_processed]\n",
    "            accs_val += [acc_val]\n",
    "\n",
    "            if samples_processed % print_interval == 0:\n",
    "                print(\"samples_processed: %d, batch_cost: %.3f, validation_accs: %.4f, validation_loss: %.4f, patience_count: %d\" % \\\n",
    "                      (samples_processed, batch_cost, acc_val, acc_loss, patience_count))\n",
    "\n",
    "            if early_stopping:\n",
    "                if len(accs_val) > patience and acc_val < accs_val[-2]:\n",
    "                    patience_count += 1\n",
    "                if patience_count >= patience:\n",
    "                    break\n",
    "    print(\"time spent: {:.3f} seconds\".format(time.time() - start))\n",
    "    saver1.save(sess, './bi_gru_300_dp')\n",
    "    writer.close()"
   ]
  },
  {
   "cell_type": "code",
   "execution_count": 22,
   "metadata": {},
   "outputs": [
    {
     "name": "stdout",
     "output_type": "stream",
     "text": [
      "INFO:tensorflow:Restoring parameters from ./bi_gru_300_dp\n",
      "Model restored\n",
      "Number of processed proteins 0\n",
      "Snapshot: Accuracy: 0.452054794521; loss: 1.43467473984\n",
      "Number of processed proteins 100\n",
      "Snapshot: Accuracy: 0.684755300975; loss: 88.5673130155\n",
      "Number of processed proteins 200\n",
      "Snapshot: Accuracy: 0.682773012888; loss: 176.104352593\n",
      "Number of processed proteins 300\n",
      "Snapshot: Accuracy: 0.688405016542; loss: 255.887807325\n",
      "Number of processed proteins 400\n",
      "Snapshot: Accuracy: 0.692091745311; loss: 341.894620582\n",
      "Number of processed proteins 500\n",
      "Snapshot: Accuracy: 0.692110572464; loss: 430.466576308\n",
      "Number of processed proteins 600\n",
      "Snapshot: Accuracy: 0.692652959268; loss: 513.135625824\n",
      "Number of processed proteins 700\n",
      "Snapshot: Accuracy: 0.695557376272; loss: 592.199452102\n",
      "Number of processed proteins 800\n",
      "Snapshot: Accuracy: 0.698138068981; loss: 668.428705975\n",
      "Number of processed proteins 900\n",
      "Snapshot: Accuracy: 0.69784426783; loss: 753.552948192\n",
      "Number of processed proteins 1000\n",
      "Snapshot: Accuracy: 0.697400222092; loss: 836.643380657\n",
      "Number of processed proteins 1100\n",
      "Snapshot: Accuracy: 0.696889005728; loss: 920.547393054\n",
      "Number of processed proteins 1200\n",
      "Snapshot: Accuracy: 0.697326906393; loss: 1005.2051726\n",
      "finished in 336.4 seconds\n",
      "Accuracy: 0.697779580778; loss: 1058.27644896\n"
     ]
    }
   ],
   "source": [
    "with tf.Session() as sess:\n",
    "    new_saver = tf.train.import_meta_graph('bi_gru_300_dp.meta')\n",
    "    new_saver.restore(sess, tf.train.latest_checkpoint('./'))\n",
    "    print(\"Model restored\")\n",
    "    start = time.time()\n",
    "    acc_valid, loss_valid = sequential_evaluate(valid_list)\n",
    "    print(\"finished in {:.1f} seconds\".format(time.time() - start))\n",
    "    print(\"Accuracy: {}; loss: {}\".format(acc_valid, loss_valid))\n",
    "#     for i in range(10):\n",
    "#         n_correct, acc, loss_ = evaluate_individual(valid_list[i])\n",
    "#         print(n_correct, acc, loss_)"
   ]
  },
  {
   "cell_type": "code",
   "execution_count": 23,
   "metadata": {},
   "outputs": [
    {
     "data": {
      "image/png": "[encoded data removed]",
      "text/plain": [
       "<matplotlib.figure.Figure at 0x7f37b4706450>"
      ]
     },
     "metadata": {},
     "output_type": "display_data"
    }
   ],
   "source": [
    "fig, ax1 = plt.subplots()\n",
    "plt.plot(samples_val, accs_val, 'b-')\n",
    "ax1.set_ylabel('Validation Accuracy', fontsize=15)\n",
    "ax1.set_xlabel('Processed samples', fontsize=15)\n",
    "plt.title('Accuracy & Cost with seq_len=300, dynamic padding', fontsize=20)\n",
    "ax2 = ax1.twinx()\n",
    "ax2.plot(samples_val, costs, 'r-')\n",
    "ax2.set_ylabel('Training Cost', fontsize=15)\n",
    "plt.grid('on')\n",
    "plt.savefig(\"out.png\")\n",
    "plt.show()"
   ]
  },
  {
   "cell_type": "code",
   "execution_count": null,
   "metadata": {
    "collapsed": true
   },
   "outputs": [],
   "source": [
    "# samples_30, accs_30, costs_30 = [], [], []\n",
    "# with open(\"feat66_len30.txt\",\"r\") as f:\n",
    "#     for line in f:\n",
    "#         line = line.split(',')\n",
    "#         samples_30.append(line[0])\n",
    "#         accs_30.append(line[1])\n",
    "#         costs_30.append(line[2])"
   ]
  },
  {
   "cell_type": "code",
   "execution_count": 24,
   "metadata": {},
   "outputs": [
    {
     "name": "stdout",
     "output_type": "stream",
     "text": [
      "157\n"
     ]
    },
    {
     "data": {
      "image/png": "[encoded data removed]",
      "text/plain": [
       "<matplotlib.figure.Figure at 0x7f37bd4e0210>"
      ]
     },
     "metadata": {},
     "output_type": "display_data"
    }
   ],
   "source": [
    "print(len(grads_norm))\n",
    "plt.plot(np.arange(len(grads_norm)), grads_norm)\n",
    "plt.show()"
   ]
  },
  {
   "cell_type": "code",
   "execution_count": 25,
   "metadata": {},
   "outputs": [
    {
     "name": "stdout",
     "output_type": "stream",
     "text": [
      "INFO:tensorflow:Restoring parameters from ./bi_gru_300_dp\n",
      "Model restored\n",
      "Number of processed proteins 0\n",
      "Snapshot: Accuracy: 0.639143730887; loss: 1.02431368828\n",
      "Number of processed proteins 100\n",
      "Snapshot: Accuracy: 0.675151573477; loss: 91.1280678213\n",
      "Number of processed proteins 200\n",
      "Snapshot: Accuracy: 0.684041739645; loss: 172.672576986\n",
      "Number of processed proteins 300\n",
      "Snapshot: Accuracy: 0.696444371621; loss: 249.707368888\n",
      "Number of processed proteins 400\n",
      "Snapshot: Accuracy: 0.6989974353; loss: 333.609347202\n",
      "Number of processed proteins 500\n",
      "Snapshot: Accuracy: 0.699499296654; loss: 415.859729014\n",
      "Number of processed proteins 600\n",
      "Snapshot: Accuracy: 0.701005232491; loss: 493.535957105\n",
      "Number of processed proteins 700\n",
      "Snapshot: Accuracy: 0.703027414256; loss: 568.45912721\n",
      "Number of processed proteins 800\n",
      "Snapshot: Accuracy: 0.702361379609; loss: 649.544061504\n",
      "Number of processed proteins 900\n",
      "Snapshot: Accuracy: 0.701390638119; loss: 733.343179531\n",
      "Number of processed proteins 1000\n",
      "Snapshot: Accuracy: 0.702002244627; loss: 812.952940695\n",
      "Number of processed proteins 1100\n",
      "Snapshot: Accuracy: 0.701070919821; loss: 894.969185665\n",
      "Number of processed proteins 1200\n",
      "Snapshot: Accuracy: 0.700082605846; loss: 980.441892728\n",
      "finished in 409.7 seconds\n",
      "Accuracy: 0.700685796121; loss: 1032.24698849\n"
     ]
    }
   ],
   "source": [
    "with tf.Session() as sess:\n",
    "#     sess.run(tf.global_variables_initializer())\n",
    "    new_saver = tf.train.import_meta_graph('bi_gru_300_dp.meta')\n",
    "    new_saver.restore(sess, tf.train.latest_checkpoint('./'))\n",
    "    print(\"Model restored\")\n",
    "    start = time.time()\n",
    "    acc_test, loss_test = sequential_evaluate(test_list)\n",
    "    print(\"finished in {:.1f} seconds\".format(time.time() - start))\n",
    "    print(\"Accuracy: {}; loss: {}\".format(acc_test, loss_test))"
   ]
  },
  {
   "cell_type": "code",
   "execution_count": null,
   "metadata": {
    "scrolled": true
   },
   "outputs": [],
   "source": [
    "relative_path = './data/CASP11/'\n",
    "CASP11_addr = relative_path + 'proteinList'\n",
    "CASP11_list = read_list(CASP11_addr)\n",
    "with tf.Session() as sess:\n",
    "    new_saver = tf.train.import_meta_graph('bi_gru_300_dp.meta')\n",
    "    new_saver.restore(sess, tf.train.latest_checkpoint('./'))\n",
    "    print(\"Model restored\")\n",
    "    start = time.time()\n",
    "    acc_11, loss_11 = sequential_evaluate(CASP11_list)\n",
    "    print(\"finished in {:.1f} seconds\", time.time() - start)\n",
    "    print(\"Accuracy: {}; loss: {}\".format(acc_11, loss_11))"
   ]
  }
 ],
 "metadata": {
  "kernelspec": {
   "display_name": "Python [conda env:tf-1.3]",
   "language": "python",
   "name": "conda-env-tf-1.3-py"
  },
  "language_info": {
   "codemirror_mode": {
    "name": "ipython",
    "version": 2
   },
   "file_extension": ".py",
   "mimetype": "text/x-python",
   "name": "python",
   "nbconvert_exporter": "python",
   "pygments_lexer": "ipython2",
   "version": "2.7.13"
  }
 },
 "nbformat": 4,
 "nbformat_minor": 2
}
