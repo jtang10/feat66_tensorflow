{
 "cells": [
  {
   "cell_type": "code",
   "execution_count": 1,
   "metadata": {
    "collapsed": true
   },
   "outputs": [],
   "source": [
    "from __future__ import print_function\n",
    "import matplotlib\n",
    "import numpy as np\n",
    "import matplotlib.pyplot as plt\n",
    "import tensorflow as tf\n",
    "from tensorflow.python.framework.ops import reset_default_graph\n",
    "from tensorflow.contrib.layers import fully_connected, batch_norm\n",
    "\n",
    "from utils import *"
   ]
  },
  {
   "cell_type": "markdown",
   "metadata": {},
   "source": [
    "Run the following code to apply the slurm restriction"
   ]
  },
  {
   "cell_type": "code",
   "execution_count": 2,
   "metadata": {
    "collapsed": true
   },
   "outputs": [],
   "source": [
    "import os\n",
    "NUM_THREADS = int(os.environ['OMP_NUM_THREADS'])\n",
    "sess = tf.Session(config=tf.ConfigProto(\n",
    "    intra_op_parallelism_threads=NUM_THREADS,\n",
    "    inter_op_parallelism_threads=NUM_THREADS))"
   ]
  },
  {
   "cell_type": "markdown",
   "metadata": {},
   "source": [
    "Convenient functions to show the running time"
   ]
  },
  {
   "cell_type": "code",
   "execution_count": 3,
   "metadata": {
    "collapsed": true
   },
   "outputs": [],
   "source": [
    "import time\n",
    "import math\n",
    "\n",
    "def asMinutes(s):\n",
    "    m = math.floor(s / 60)\n",
    "    s -= m * 60\n",
    "    return '%dm %ds' % (m, s)\n",
    "\n",
    "def timeSince(since, percent):\n",
    "    now = time.time()\n",
    "    s = now - since\n",
    "    es = s / (percent)\n",
    "    rs = es - s\n",
    "    return '%s (- %s)' % (asMinutes(s), asMinutes(rs))"
   ]
  },
  {
   "cell_type": "markdown",
   "metadata": {},
   "source": [
    "All the hyperparameters"
   ]
  },
  {
   "cell_type": "code",
   "execution_count": 47,
   "metadata": {
    "collapsed": true
   },
   "outputs": [],
   "source": [
    "batch_size = 64\n",
    "number_inputs = 66\n",
    "number_outputs = 8\n",
    "seq_len = 300 # max 700\n",
    "learning_rate = 0.001\n",
    "val_interval = batch_size * 5\n",
    "print_interval = batch_size * 10\n",
    "samples_to_process = 1.5e4"
   ]
  },
  {
   "cell_type": "markdown",
   "metadata": {},
   "source": [
    "Load all the data"
   ]
  },
  {
   "cell_type": "code",
   "execution_count": 48,
   "metadata": {
    "scrolled": true
   },
   "outputs": [
    {
     "name": "stdout",
     "output_type": "stream",
     "text": [
      "Time spent loading data: 0m 39s\n",
      "X_train: (64, 300, 66)\n",
      "X_valid: (1267, 683, 66)\n",
      "X_test: (1267, 687, 66)\n"
     ]
    }
   ],
   "source": [
    "# Get all the data\n",
    "trainList_addr = './data/trainList'\n",
    "validList_addr = './data/validList'\n",
    "testList_addr = './data/testList'\n",
    "\n",
    "start = time.time()\n",
    "train_list, train_len_list = read_list(trainList_addr)\n",
    "valid_list, valid_len_list = read_list(validList_addr)\n",
    "test_list, test_len_list = read_list(testList_addr)\n",
    "\n",
    "train_generator = generate_batch(train_list, train_len_list,\n",
    "                                 max_seq_length=seq_len,\n",
    "                                 batch_size=batch_size)\n",
    "\n",
    "X_train, t_train, len_train = train_generator.next()\n",
    "# X_train, t_train, len_train = read_data(train_list, train_len_list,\n",
    "#                                         max_seq_length=seq_len)\n",
    "X_valid, t_valid, len_valid = read_data(valid_list, valid_len_list,\n",
    "                                        max_seq_length=max(valid_len_list))\n",
    "X_test, t_test, len_test = read_data(test_list, test_len_list,\n",
    "                                     max_seq_length=max(test_len_list))\n",
    "\n",
    "timeSpent = time.time() - start\n",
    "print(\"Time spent loading data: {}\".format(asMinutes(timeSpent)))\n",
    "print(\"X_train:\", X_train.shape)\n",
    "print(\"X_valid:\", X_valid.shape)\n",
    "print(\"X_test:\", X_test.shape)"
   ]
  },
  {
   "cell_type": "code",
   "execution_count": 49,
   "metadata": {
    "collapsed": true
   },
   "outputs": [],
   "source": [
    "reset_default_graph()\n",
    "\n",
    "X_input = tf.placeholder(tf.float32, shape=[None, None, number_inputs], name='X_input')\n",
    "X_length = tf.placeholder(tf.int32, shape=[None,], name='X_length')\n",
    "t_input = tf.placeholder(tf.int32, shape=[None, None], name='t_input')\n",
    "\n",
    "num_units_encoder = 100\n",
    "num_units_l1 = 100\n",
    "\n",
    "cell_fw = tf.nn.rnn_cell.GRUCell(num_units_encoder)\n",
    "cell_bw = tf.nn.rnn_cell.GRUCell(num_units_encoder)\n",
    "#enc_cell = tf.nn.rnn_cell.OutputProjectionWrapper(enc_cell, number_outputs)\n",
    "enc_outputs, _ = tf.nn.bidirectional_dynamic_rnn(cell_fw=cell_fw, cell_bw=cell_bw, inputs=X_input,\n",
    "                                                 sequence_length=X_length, dtype=tf.float32)\n",
    "enc_outputs = tf.concat(enc_outputs, 2)\n",
    "outputs = tf.reshape(enc_outputs, [-1, num_units_encoder*2])\n",
    "l1 = fully_connected(outputs, num_units_l1, normalizer_fn=batch_norm)\n",
    "l_out = fully_connected(l1, number_outputs, activation_fn=None)\n",
    "\n",
    "batch_size_shp = tf.shape(enc_outputs)[0]\n",
    "seq_len_shp = tf.shape(enc_outputs)[1]\n",
    "l_out_reshape = tf.reshape(l_out, [batch_size_shp, seq_len_shp, number_outputs])\n",
    "\n",
    "y = l_out_reshape"
   ]
  },
  {
   "cell_type": "code",
   "execution_count": 50,
   "metadata": {
    "collapsed": true
   },
   "outputs": [],
   "source": [
    "# Calculate loss\n",
    "crossent = tf.nn.sparse_softmax_cross_entropy_with_logits(labels=t_input, logits=y)\n",
    "loss = tf.reduce_mean(crossent)\n",
    "# Calculate accuracy. Need to exclude the padded zeros.\n",
    "predictions = tf.to_int32(tf.argmax(y, 2))\n",
    "correct = tf.to_float(tf.equal(predictions, t_input))\n",
    "accuracy = tf.reduce_mean(correct)\n",
    "\n",
    "# use global step to keep track of our iterations\n",
    "global_step = tf.Variable(0, name='global_step', trainable=False)\n",
    "# pick optimizer, try momentum or adadelta\n",
    "optimizer = tf.train.AdamOptimizer(learning_rate)\n",
    "# extract gradients for each variable\n",
    "grads_and_vars = optimizer.compute_gradients(loss)\n",
    "# apply gradients and make trainable function\n",
    "train_op = optimizer.apply_gradients(grads_and_vars, global_step=global_step)"
   ]
  },
  {
   "cell_type": "code",
   "execution_count": 52,
   "metadata": {},
   "outputs": [
    {
     "name": "stdout",
     "output_type": "stream",
     "text": [
      "==========validating the model==========\n",
      "y: (1267, 683, 8)\n",
      "t_input (1267, 683)\n",
      "predictions (1267, 683)\n",
      "Cross Entropy (1267, 683)\n",
      "[[ 0.86243993 -0.79209489  1.38405383 -0.37650916 -0.06673558 -2.23163748\n",
      "  -0.10650797  0.5113883 ]\n",
      " [ 0.62592047 -1.19165123  1.2891928  -0.04594254  0.06192031 -2.11360025\n",
      "   0.35889208  0.50057006]\n",
      " [ 0.71294576 -1.52190411  1.98414099  0.21685544 -1.11758244 -1.72380698\n",
      "   0.60148942  0.37680596]\n",
      " [ 0.87787098 -1.78982639  2.51424885 -0.05778873 -1.15209472 -1.27124071\n",
      "  -0.25816196 -0.14460769]\n",
      " [ 0.36189899 -2.52509165  2.08530021  0.44635901 -1.19450843 -1.19696116\n",
      "   0.62170786 -0.60141462]]\n",
      "[2 2 2 2 2]\n",
      "==========Model validation finished==========\n"
     ]
    }
   ],
   "source": [
    "# restricting memory usage, TensorFlow is greedy and will use all memory otherwise\n",
    "gpu_opts = tf.GPUOptions(per_process_gpu_memory_fraction=0.4)\n",
    "# initialize the Session\n",
    "sess = tf.Session(config=tf.ConfigProto(gpu_options=gpu_opts))\n",
    "# sess.run(tf.global_variables_initializer())\n",
    "\n",
    "print(\"=\" * 10 + \"validating the model\"+ \"=\" * 10)\n",
    "# test validation part\n",
    "sess.run(tf.global_variables_initializer())\n",
    "feed_dict = {X_input: X_valid, X_length: len_valid, t_input: t_valid}\n",
    "fetches = [y, t_input, predictions, crossent]\n",
    "res = tuple(sess.run(fetches=fetches, feed_dict=feed_dict))\n",
    "print(\"y:\", res[0].shape)\n",
    "print(\"t_input\", res[1].shape)\n",
    "print(\"predictions\", res[2].shape)\n",
    "print(\"Cross Entropy\", res[3].shape)\n",
    "# print(res[0][0, 0:20, :])\n",
    "print(res[0][0, 0:5, :])\n",
    "print(res[2][0, 0:5])\n",
    "print(\"=\" * 10 + \"Model validation finished\"+ \"=\" * 10)"
   ]
  },
  {
   "cell_type": "code",
   "execution_count": 53,
   "metadata": {},
   "outputs": [
    {
     "name": "stdout",
     "output_type": "stream",
     "text": [
      "samples_processed: 640, batch_cost: 0.98, validation_accs: 0.8639\n",
      "samples_processed: 1280, batch_cost: 0.74, validation_accs: 0.8781\n",
      "samples_processed: 1920, batch_cost: 0.64, validation_accs: 0.8911\n",
      "samples_processed: 2560, batch_cost: 0.59, validation_accs: 0.8971\n",
      "samples_processed: 3200, batch_cost: 0.56, validation_accs: 0.8998\n",
      "samples_processed: 3840, batch_cost: 0.54, validation_accs: 0.9010\n",
      "samples_processed: 4480, batch_cost: 0.53, validation_accs: 0.9017\n",
      "samples_processed: 5120, batch_cost: 0.52, validation_accs: 0.9024\n",
      "samples_processed: 5760, batch_cost: 0.51, validation_accs: 0.9028\n",
      "samples_processed: 6400, batch_cost: 0.50, validation_accs: 0.9031\n",
      "samples_processed: 7040, batch_cost: 0.49, validation_accs: 0.9033\n",
      "samples_processed: 7680, batch_cost: 0.48, validation_accs: 0.9035\n",
      "samples_processed: 8320, batch_cost: 0.47, validation_accs: 0.9035\n",
      "samples_processed: 8960, batch_cost: 0.46, validation_accs: 0.9033\n",
      "samples_processed: 9600, batch_cost: 0.45, validation_accs: 0.9032\n",
      "samples_processed: 10240, batch_cost: 0.43, validation_accs: 0.9030\n",
      "samples_processed: 10880, batch_cost: 0.42, validation_accs: 0.9028\n",
      "samples_processed: 11520, batch_cost: 0.41, validation_accs: 0.9025\n",
      "samples_processed: 12160, batch_cost: 0.40, validation_accs: 0.9022\n",
      "samples_processed: 12800, batch_cost: 0.39, validation_accs: 0.9018\n",
      "samples_processed: 13440, batch_cost: 0.37, validation_accs: 0.9013\n",
      "samples_processed: 14080, batch_cost: 0.36, validation_accs: 0.9011\n",
      "samples_processed: 14720, batch_cost: 0.35, validation_accs: 0.9005\n"
     ]
    },
    {
     "data": {
      "text/plain": [
       "'./bi_gru_300_dp'"
      ]
     },
     "execution_count": 53,
     "metadata": {},
     "output_type": "execute_result"
    }
   ],
   "source": [
    "samples_processed = 0\n",
    "samples_val = []\n",
    "costs, accs_val = [], []\n",
    "saver1 = tf.train.Saver()\n",
    "\n",
    "sess.run(tf.global_variables_initializer())\n",
    "while samples_processed < samples_to_process:\n",
    "    # make fetches\n",
    "    fetches_tr = [train_op, loss, accuracy]\n",
    "    # set up feed dict\n",
    "    feed_dict_tr = {X_input: X_train, X_length: len_train,\n",
    "                    t_input: t_train}\n",
    "    # run the model\n",
    "    res = tuple(sess.run(fetches=fetches_tr, feed_dict=feed_dict_tr))\n",
    "    _, batch_cost, batch_acc = res\n",
    "    samples_processed += batch_size\n",
    "    \n",
    "    #validation data\n",
    "    if samples_processed % val_interval == 0:\n",
    "        fetches_val = [accuracy, y]\n",
    "        feed_dict_val = {X_input: X_valid, X_length: len_valid,\n",
    "                         t_input: t_valid}\n",
    "        res = tuple(sess.run(fetches=fetches_val, feed_dict=feed_dict_val))\n",
    "        \n",
    "        costs += [batch_cost]\n",
    "        acc_val, output_val = res\n",
    "        samples_val += [samples_processed]\n",
    "        accs_val += [acc_val]\n",
    "\n",
    "        if samples_processed % print_interval == 0:\n",
    "            print(\"samples_processed: %d, batch_cost: %.2f, validation_accs: %.4f\" % \\\n",
    "                  (samples_processed, batch_cost, acc_val))\n",
    "\n",
    "saver1.save(sess, './bi_gru_300_dp')"
   ]
  },
  {
   "cell_type": "code",
   "execution_count": 54,
   "metadata": {},
   "outputs": [
    {
     "name": "stdout",
     "output_type": "stream",
     "text": [
      "Test Accuracy: 0.9009\n",
      "[0 5 5 5 5 5 5 5 5 5 5 5 5 5 5 5 5 5 5 5 5 5 5 5 7 0 2 2 2 0 0 0 2 2 2 2 0\n",
      " 7 6 6 0 0 0 0 3 7 6 2 2 2 2 2 2 2 2 0 7 7 6 6 7 6 2 2 2 2 2 2 0 5 5 5 5 5\n",
      " 5 5 5 5 5 5 7 3 0 0 7 7 6 2 2 2 2 0 0 0 6 6 6 0 0 6 7 0 0 6 0 0 2 2 2 2 2\n",
      " 0 0 0 0 5 5 5 5 0 0 7 7 6 0 0 5 5 5 5 5 5 5 5 5 5 5 5 5 5 5 5 5 5 5 5 5 5\n",
      " 5 5 5 7 7 0 6 6 6 6 0 7 0 2 2 2 2 2 5 5 5 5 5 5 5 6 0 0 0 0 5 5 5 5 5 5 5\n",
      " 5 5 5 5 5 7 0 2 2 2 2 2 0 0 0 0 0 7 7 7 6 0 0 0 0 0 0 0 0 0 0 6 6 6 6 0 5\n",
      " 3 3 6 6 7 6 6 7 7 2 2 2 2 2 2 0 7 0 7 2 2 2 2 2 2 2 2 2 2 2 2 0 5 5 5 5 5\n",
      " 5 5 5 5 5 5 7 0 5 5 5 5 7 5 5 5 5 5 5 5 5 7 7 6 0 0 0 0 6 6 6 7 0 5 5 5 5\n",
      " 5 5 5 5 5 5 0 0 6 6 2 2 2 2 2 2 2 0 0 0 5 5 5 5 5 5 5 5 5 0 0 0 0 0 0 0 0\n",
      " 0 0 0 0 0 0 0 0 0 0 0 0 0 0 0 0 0 0 0 0 0 0 0 0 0 0 0 0 0 0 0 0 0 0 0 0 0\n",
      " 0 0 0 0 0 0 0 0 0 0 0 0 0 0 0 0 0 0 0 0 0 0 0 0 0 0 0 0 0 0 0 0 0 0 0 0 0\n",
      " 0 0 0 0 0 0 0 0 0 0 0 0 0 0 0 0 0 0 0 0 0 0 0 0 0 0 0 0 0 0 0 0 0 0 0 0 0\n",
      " 0 0 0 0 0 0 0 0 0 0 0 0 0 0 0 0 0 0 0 0 0 0 0 0 0 0 0 0 0 0 0 0 0 0 0 0 0\n",
      " 0 0 0 0 0 0 0 0 0 0 0 0 0 0 0 0 0 0 0 0 0 0 0 0 0 0 0 0 0 0 0 0 0 0 0 0 0\n",
      " 0 0 0 0 0 0 0 0 0 0 0 0 0 0 0 0 0 0 0 0 0 0 0 0 0 0 0 0 0 0 0 0 0 0 0 0 0\n",
      " 0 0 0 0 0 0 0 0 0 0 0 0 0 0 0 0 0 0 0 0 0 0 0 0 0 0 0 0 0 0 0 0 0 0 0 0 0\n",
      " 0 0 0 0 0 0 0 0 0 0 0 0 0 0 0 0 0 0 0 0 0 0 0 0 0 0 0 0 0 0 0 0 0 0 0 0 0\n",
      " 0 0 0 0 0 0 0 0 0 0 0 0 0 0 0 0 0 0 0 0 0 0 0 0 0 0 0 0 0 0 0 0 0 0 0 0 0\n",
      " 0 0 0 0 0 0 0 0 0 0 0 0 0 0 0 0 0 0 0 0 0]\n",
      "[0 0 5 5 5 5 5 5 5 5 5 5 5 5 5 5 5 5 5 5 5 5 5 5 0 2 2 2 0 0 0 0 6 2 2 2 7\n",
      " 7 6 6 0 6 0 0 7 7 6 6 0 0 0 0 2 2 0 0 6 6 6 7 7 0 0 2 2 2 0 6 0 0 7 7 5 5\n",
      " 5 5 5 5 5 5 7 7 0 0 7 7 0 2 2 2 0 2 2 2 2 2 0 7 7 0 6 6 0 0 6 6 0 0 6 2 2\n",
      " 2 2 2 2 2 2 2 2 0 0 7 7 0 0 6 5 5 5 5 5 5 5 5 5 5 5 5 5 5 5 5 5 5 5 5 5 5\n",
      " 5 5 5 6 0 0 0 0 0 6 0 6 6 0 2 2 2 2 5 5 5 5 5 5 5 6 0 6 6 0 5 5 5 5 5 5 5\n",
      " 5 5 5 5 5 6 2 2 2 2 2 0 0 6 6 1 0 6 6 6 0 1 6 6 0 0 0 7 7 7 0 0 0 6 6 1 0\n",
      " 7 7 6 6 1 0 6 2 2 2 2 2 2 2 2 7 7 7 7 2 2 2 2 2 2 2 2 2 2 0 0 0 5 5 5 5 5\n",
      " 5 5 5 5 5 5 7 0 7 7 7 7 7 6 5 5 5 5 5 5 5 7 7 0 6 0 0 2 2 2 2 2 2 2 5 5 5\n",
      " 5 5 5 5 5 5 7 0 6 0 3 3 3 7 6 0 0 0 0 0 5 5 5 5 5 5 6 0 0 0 0 0 0 0 0 0 0\n",
      " 0 0 0 0 0 0 0 0 0 0 0 0 0 0 0 0 0 0 0 0 0 0 0 0 0 0 0 0 0 0 0 0 0 0 0 0 0\n",
      " 0 0 0 0 0 0 0 0 0 0 0 0 0 0 0 0 0 0 0 0 0 0 0 0 0 0 0 0 0 0 0 0 0 0 0 0 0\n",
      " 0 0 0 0 0 0 0 0 0 0 0 0 0 0 0 0 0 0 0 0 0 0 0 0 0 0 0 0 0 0 0 0 0 0 0 0 0\n",
      " 0 0 0 0 0 0 0 0 0 0 0 0 0 0 0 0 0 0 0 0 0 0 0 0 0 0 0 0 0 0 0 0 0 0 0 0 0\n",
      " 0 0 0 0 0 0 0 0 0 0 0 0 0 0 0 0 0 0 0 0 0 0 0 0 0 0 0 0 0 0 0 0 0 0 0 0 0\n",
      " 0 0 0 0 0 0 0 0 0 0 0 0 0 0 0 0 0 0 0 0 0 0 0 0 0 0 0 0 0 0 0 0 0 0 0 0 0\n",
      " 0 0 0 0 0 0 0 0 0 0 0 0 0 0 0 0 0 0 0 0 0 0 0 0 0 0 0 0 0 0 0 0 0 0 0 0 0\n",
      " 0 0 0 0 0 0 0 0 0 0 0 0 0 0 0 0 0 0 0 0 0 0 0 0 0 0 0 0 0 0 0 0 0 0 0 0 0\n",
      " 0 0 0 0 0 0 0 0 0 0 0 0 0 0 0 0 0 0 0 0 0 0 0 0 0 0 0 0 0 0 0 0 0 0 0 0 0\n",
      " 0 0 0 0 0 0 0 0 0 0 0 0 0 0 0 0 0 0 0 0 0]\n"
     ]
    }
   ],
   "source": [
    "fetches_test = [accuracy, y, predictions]\n",
    "feed_dict_test = {X_input: X_test, X_length: len_test,\n",
    "                 t_input: t_test}\n",
    "res = tuple(sess.run(fetches=fetches_test, feed_dict=feed_dict_test))\n",
    "\n",
    "acc_test, output_test, predictions = res\n",
    "print(\"Test Accuracy: {:.4f}\".format(acc_test))\n",
    "print(predictions[0, :])\n",
    "print(t_test[0, :])"
   ]
  },
  {
   "cell_type": "code",
   "execution_count": null,
   "metadata": {
    "collapsed": true
   },
   "outputs": [],
   "source": [
    "# with open(\"feat66_len300_dynamic_padding.txt\",\"w\") as f:\n",
    "#     for (sample_val, acc_val, cost) in zip(samples_val, accs_val, costs):\n",
    "#         f.write(\"{0},{1},{2}\\n\".format(sample_val, acc_val, cost))"
   ]
  },
  {
   "cell_type": "code",
   "execution_count": 45,
   "metadata": {},
   "outputs": [
    {
     "data": {
      "image/png": "[encoded data removed]",
      "text/plain": [
       "<matplotlib.figure.Figure at 0x7fe72ddf8450>"
      ]
     },
     "metadata": {},
     "output_type": "display_data"
    }
   ],
   "source": [
    "fig, ax1 = plt.subplots()\n",
    "plt.plot(samples_val, accs_val, 'b-')\n",
    "ax1.set_ylabel('Validation Accuracy', fontsize=15)\n",
    "ax1.set_xlabel('Processed samples', fontsize=15)\n",
    "plt.title('Accuracy & Cost with seq_len=300, dynamic padding', fontsize=20)\n",
    "ax2 = ax1.twinx()\n",
    "ax2.plot(samples_val, costs, 'r-')\n",
    "ax2.set_ylabel('Training Cost', fontsize=15)\n",
    "plt.grid('on')\n",
    "plt.savefig(\"out.png\")\n",
    "plt.show()"
   ]
  },
  {
   "cell_type": "code",
   "execution_count": null,
   "metadata": {
    "collapsed": true
   },
   "outputs": [],
   "source": [
    "samples_30, accs_30, costs_30 = [], [], []\n",
    "with open(\"feat66_len30.txt\",\"r\") as f:\n",
    "    for line in f:\n",
    "        line = line.split(',')\n",
    "        samples_30.append(line[0])\n",
    "        accs_30.append(line[1])\n",
    "        costs_30.append(line[2])"
   ]
  },
  {
   "cell_type": "code",
   "execution_count": null,
   "metadata": {
    "collapsed": true
   },
   "outputs": [],
   "source": [
    "fig, ax1 = plt.subplots()\n",
    "plt.plot(samples_30, accs_30, 'b-')\n",
    "ax1.set_ylabel('Validation Accuracy', fontsize=15)\n",
    "ax1.set_xlabel('Processed samples', fontsize=15)\n",
    "plt.title('Accuracy & Cost with seq_len=30', fontsize=20)\n",
    "ax2 = ax1.twinx()\n",
    "ax2.plot(samples_30, costs_30, 'r-')\n",
    "ax2.set_ylabel('Training Cost', fontsize=15)\n",
    "plt.grid('on')\n",
    "plt.savefig(\"out.png\")\n",
    "plt.show()"
   ]
  },
  {
   "cell_type": "code",
   "execution_count": null,
   "metadata": {
    "collapsed": true
   },
   "outputs": [],
   "source": [
    "samples_300, accs_300, costs_300 = [], [], []\n",
    "with open(\"feat66_len300.txt\",\"r\") as f:\n",
    "    for line in f:\n",
    "        line = line.split(',')\n",
    "        samples_300.append(line[0])\n",
    "        accs_300.append(line[1])\n",
    "        costs_300.append(line[2])"
   ]
  },
  {
   "cell_type": "code",
   "execution_count": null,
   "metadata": {
    "collapsed": true
   },
   "outputs": [],
   "source": [
    "fig, ax1 = plt.subplots()\n",
    "plt.plot(samples_300, accs_300, 'b-')\n",
    "ax1.set_ylabel('Validation Accuracy', fontsize=15)\n",
    "ax1.set_xlabel('Processed samples', fontsize=15)\n",
    "plt.title('Accuracy & Cost with seq_len=300', fontsize=20)\n",
    "ax2 = ax1.twinx()\n",
    "ax2.plot(samples_300, costs_300, 'r-')\n",
    "ax2.set_ylabel('Training Cost', fontsize=15)\n",
    "plt.grid('on')\n",
    "plt.savefig(\"out.png\")\n",
    "plt.show()"
   ]
  }
 ],
 "metadata": {
  "kernelspec": {
   "display_name": "Python [conda env:tf-1.3]",
   "language": "python",
   "name": "conda-env-tf-1.3-py"
  },
  "language_info": {
   "codemirror_mode": {
    "name": "ipython",
    "version": 2
   },
   "file_extension": ".py",
   "mimetype": "text/x-python",
   "name": "python",
   "nbconvert_exporter": "python",
   "pygments_lexer": "ipython2",
   "version": "2.7.13"
  }
 },
 "nbformat": 4,
 "nbformat_minor": 2
}
